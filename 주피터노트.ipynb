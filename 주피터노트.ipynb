{
 "cells": [
  {
   "cell_type": "code",
   "execution_count": 216,
   "metadata": {},
   "outputs": [],
   "source": [
    "import pandas as pd\n",
    "import seaborn as sns\n",
    "import numpy as np\n",
    "import matplotlib.pyplot as plt"
   ]
  },
  {
   "cell_type": "code",
   "execution_count": 217,
   "metadata": {},
   "outputs": [],
   "source": [
    "customer = pd.read_csv(\"C:/Users/user/Documents/GitHub/최종프로젝트/Customer_info.csv\")\n",
    "discount = pd.read_csv(\"C:/Users/user/Documents/GitHub/최종프로젝트/Discount_info.csv\")\n",
    "marketing = pd.read_csv(\"C:/Users/user/Documents/GitHub/최종프로젝트/Marketing_info.csv\")\n",
    "onlinesales = pd.read_csv(\"C:/Users/user/Documents/GitHub/최종프로젝트/Onlinesales_info.csv\")"
   ]
  },
  {
   "cell_type": "code",
   "execution_count": 218,
   "metadata": {},
   "outputs": [
    {
     "data": {
      "text/html": [
       "<div>\n",
       "<style scoped>\n",
       "    .dataframe tbody tr th:only-of-type {\n",
       "        vertical-align: middle;\n",
       "    }\n",
       "\n",
       "    .dataframe tbody tr th {\n",
       "        vertical-align: top;\n",
       "    }\n",
       "\n",
       "    .dataframe thead th {\n",
       "        text-align: right;\n",
       "    }\n",
       "</style>\n",
       "<table border=\"1\" class=\"dataframe\">\n",
       "  <thead>\n",
       "    <tr style=\"text-align: right;\">\n",
       "      <th></th>\n",
       "      <th>고객ID</th>\n",
       "      <th>성별</th>\n",
       "      <th>고객지역</th>\n",
       "      <th>가입기간</th>\n",
       "    </tr>\n",
       "  </thead>\n",
       "  <tbody>\n",
       "    <tr>\n",
       "      <th>0</th>\n",
       "      <td>USER_1358</td>\n",
       "      <td>남</td>\n",
       "      <td>Chicago</td>\n",
       "      <td>12</td>\n",
       "    </tr>\n",
       "    <tr>\n",
       "      <th>1</th>\n",
       "      <td>USER_0190</td>\n",
       "      <td>남</td>\n",
       "      <td>California</td>\n",
       "      <td>43</td>\n",
       "    </tr>\n",
       "    <tr>\n",
       "      <th>2</th>\n",
       "      <td>USER_0066</td>\n",
       "      <td>남</td>\n",
       "      <td>Chicago</td>\n",
       "      <td>33</td>\n",
       "    </tr>\n",
       "    <tr>\n",
       "      <th>3</th>\n",
       "      <td>USER_0345</td>\n",
       "      <td>여</td>\n",
       "      <td>California</td>\n",
       "      <td>30</td>\n",
       "    </tr>\n",
       "    <tr>\n",
       "      <th>4</th>\n",
       "      <td>USER_0683</td>\n",
       "      <td>남</td>\n",
       "      <td>California</td>\n",
       "      <td>49</td>\n",
       "    </tr>\n",
       "  </tbody>\n",
       "</table>\n",
       "</div>"
      ],
      "text/plain": [
       "        고객ID 성별        고객지역  가입기간\n",
       "0  USER_1358  남     Chicago    12\n",
       "1  USER_0190  남  California    43\n",
       "2  USER_0066  남     Chicago    33\n",
       "3  USER_0345  여  California    30\n",
       "4  USER_0683  남  California    49"
      ]
     },
     "execution_count": 218,
     "metadata": {},
     "output_type": "execute_result"
    }
   ],
   "source": [
    "customer.head()"
   ]
  },
  {
   "cell_type": "code",
   "execution_count": 219,
   "metadata": {},
   "outputs": [
    {
     "data": {
      "text/html": [
       "<div>\n",
       "<style scoped>\n",
       "    .dataframe tbody tr th:only-of-type {\n",
       "        vertical-align: middle;\n",
       "    }\n",
       "\n",
       "    .dataframe tbody tr th {\n",
       "        vertical-align: top;\n",
       "    }\n",
       "\n",
       "    .dataframe thead th {\n",
       "        text-align: right;\n",
       "    }\n",
       "</style>\n",
       "<table border=\"1\" class=\"dataframe\">\n",
       "  <thead>\n",
       "    <tr style=\"text-align: right;\">\n",
       "      <th></th>\n",
       "      <th>가입기간</th>\n",
       "    </tr>\n",
       "  </thead>\n",
       "  <tbody>\n",
       "    <tr>\n",
       "      <th>count</th>\n",
       "      <td>1468.000000</td>\n",
       "    </tr>\n",
       "    <tr>\n",
       "      <th>mean</th>\n",
       "      <td>25.912125</td>\n",
       "    </tr>\n",
       "    <tr>\n",
       "      <th>std</th>\n",
       "      <td>13.959667</td>\n",
       "    </tr>\n",
       "    <tr>\n",
       "      <th>min</th>\n",
       "      <td>2.000000</td>\n",
       "    </tr>\n",
       "    <tr>\n",
       "      <th>25%</th>\n",
       "      <td>14.000000</td>\n",
       "    </tr>\n",
       "    <tr>\n",
       "      <th>50%</th>\n",
       "      <td>26.000000</td>\n",
       "    </tr>\n",
       "    <tr>\n",
       "      <th>75%</th>\n",
       "      <td>38.000000</td>\n",
       "    </tr>\n",
       "    <tr>\n",
       "      <th>max</th>\n",
       "      <td>50.000000</td>\n",
       "    </tr>\n",
       "  </tbody>\n",
       "</table>\n",
       "</div>"
      ],
      "text/plain": [
       "              가입기간\n",
       "count  1468.000000\n",
       "mean     25.912125\n",
       "std      13.959667\n",
       "min       2.000000\n",
       "25%      14.000000\n",
       "50%      26.000000\n",
       "75%      38.000000\n",
       "max      50.000000"
      ]
     },
     "execution_count": 219,
     "metadata": {},
     "output_type": "execute_result"
    }
   ],
   "source": [
    "customer.describe()"
   ]
  },
  {
   "cell_type": "code",
   "execution_count": 220,
   "metadata": {},
   "outputs": [
    {
     "name": "stdout",
     "output_type": "stream",
     "text": [
      "<class 'pandas.core.frame.DataFrame'>\n",
      "RangeIndex: 1468 entries, 0 to 1467\n",
      "Data columns (total 4 columns):\n",
      " #   Column  Non-Null Count  Dtype \n",
      "---  ------  --------------  ----- \n",
      " 0   고객ID    1468 non-null   object\n",
      " 1   성별      1468 non-null   object\n",
      " 2   고객지역    1468 non-null   object\n",
      " 3   가입기간    1468 non-null   int64 \n",
      "dtypes: int64(1), object(3)\n",
      "memory usage: 46.0+ KB\n"
     ]
    }
   ],
   "source": [
    "customer.info()"
   ]
  },
  {
   "cell_type": "code",
   "execution_count": 221,
   "metadata": {},
   "outputs": [
    {
     "data": {
      "text/plain": [
       "고객ID    0\n",
       "성별      0\n",
       "고객지역    0\n",
       "가입기간    0\n",
       "dtype: int64"
      ]
     },
     "execution_count": 221,
     "metadata": {},
     "output_type": "execute_result"
    }
   ],
   "source": [
    "len(customer) - customer.count()"
   ]
  },
  {
   "cell_type": "code",
   "execution_count": 222,
   "metadata": {},
   "outputs": [
    {
     "name": "stdout",
     "output_type": "stream",
     "text": [
      "1468\n"
     ]
    },
    {
     "data": {
      "text/plain": [
       "고객ID    0\n",
       "성별      0\n",
       "고객지역    0\n",
       "가입기간    0\n",
       "dtype: int64"
      ]
     },
     "execution_count": 222,
     "metadata": {},
     "output_type": "execute_result"
    }
   ],
   "source": [
    "#결측치\n",
    "print(len(customer))\n",
    "len(customer) - customer.count()"
   ]
  },
  {
   "cell_type": "code",
   "execution_count": 223,
   "metadata": {},
   "outputs": [
    {
     "data": {
      "text/plain": [
       "0       False\n",
       "1       False\n",
       "2       False\n",
       "3       False\n",
       "4       False\n",
       "        ...  \n",
       "1463    False\n",
       "1464    False\n",
       "1465    False\n",
       "1466    False\n",
       "1467    False\n",
       "Length: 1468, dtype: bool"
      ]
     },
     "execution_count": 223,
     "metadata": {},
     "output_type": "execute_result"
    }
   ],
   "source": [
    "#중복값\n",
    "customer.duplicated()"
   ]
  },
  {
   "cell_type": "code",
   "execution_count": 224,
   "metadata": {},
   "outputs": [
    {
     "data": {
      "text/html": [
       "<div>\n",
       "<style scoped>\n",
       "    .dataframe tbody tr th:only-of-type {\n",
       "        vertical-align: middle;\n",
       "    }\n",
       "\n",
       "    .dataframe tbody tr th {\n",
       "        vertical-align: top;\n",
       "    }\n",
       "\n",
       "    .dataframe thead th {\n",
       "        text-align: right;\n",
       "    }\n",
       "</style>\n",
       "<table border=\"1\" class=\"dataframe\">\n",
       "  <thead>\n",
       "    <tr style=\"text-align: right;\">\n",
       "      <th></th>\n",
       "      <th>월</th>\n",
       "      <th>제품카테고리</th>\n",
       "      <th>쿠폰코드</th>\n",
       "      <th>할인율</th>\n",
       "    </tr>\n",
       "  </thead>\n",
       "  <tbody>\n",
       "    <tr>\n",
       "      <th>0</th>\n",
       "      <td>Jan</td>\n",
       "      <td>Apparel</td>\n",
       "      <td>SALE10</td>\n",
       "      <td>10</td>\n",
       "    </tr>\n",
       "    <tr>\n",
       "      <th>1</th>\n",
       "      <td>Feb</td>\n",
       "      <td>Apparel</td>\n",
       "      <td>SALE20</td>\n",
       "      <td>20</td>\n",
       "    </tr>\n",
       "    <tr>\n",
       "      <th>2</th>\n",
       "      <td>Mar</td>\n",
       "      <td>Apparel</td>\n",
       "      <td>SALE30</td>\n",
       "      <td>30</td>\n",
       "    </tr>\n",
       "    <tr>\n",
       "      <th>3</th>\n",
       "      <td>Jan</td>\n",
       "      <td>Nest-USA</td>\n",
       "      <td>ELEC10</td>\n",
       "      <td>10</td>\n",
       "    </tr>\n",
       "    <tr>\n",
       "      <th>4</th>\n",
       "      <td>Feb</td>\n",
       "      <td>Nest-USA</td>\n",
       "      <td>ELEC20</td>\n",
       "      <td>20</td>\n",
       "    </tr>\n",
       "    <tr>\n",
       "      <th>5</th>\n",
       "      <td>Mar</td>\n",
       "      <td>Nest-USA</td>\n",
       "      <td>ELEC30</td>\n",
       "      <td>30</td>\n",
       "    </tr>\n",
       "    <tr>\n",
       "      <th>6</th>\n",
       "      <td>Jan</td>\n",
       "      <td>Office</td>\n",
       "      <td>OFF10</td>\n",
       "      <td>10</td>\n",
       "    </tr>\n",
       "    <tr>\n",
       "      <th>7</th>\n",
       "      <td>Feb</td>\n",
       "      <td>Office</td>\n",
       "      <td>OFF20</td>\n",
       "      <td>20</td>\n",
       "    </tr>\n",
       "    <tr>\n",
       "      <th>8</th>\n",
       "      <td>Mar</td>\n",
       "      <td>Office</td>\n",
       "      <td>OFF30</td>\n",
       "      <td>30</td>\n",
       "    </tr>\n",
       "    <tr>\n",
       "      <th>9</th>\n",
       "      <td>Jan</td>\n",
       "      <td>Drinkware</td>\n",
       "      <td>EXTRA10</td>\n",
       "      <td>10</td>\n",
       "    </tr>\n",
       "    <tr>\n",
       "      <th>10</th>\n",
       "      <td>Feb</td>\n",
       "      <td>Drinkware</td>\n",
       "      <td>EXTRA20</td>\n",
       "      <td>20</td>\n",
       "    </tr>\n",
       "    <tr>\n",
       "      <th>11</th>\n",
       "      <td>Mar</td>\n",
       "      <td>Drinkware</td>\n",
       "      <td>EXTRA30</td>\n",
       "      <td>30</td>\n",
       "    </tr>\n",
       "  </tbody>\n",
       "</table>\n",
       "</div>"
      ],
      "text/plain": [
       "      월     제품카테고리     쿠폰코드  할인율\n",
       "0   Jan    Apparel   SALE10   10\n",
       "1   Feb    Apparel   SALE20   20\n",
       "2   Mar    Apparel   SALE30   30\n",
       "3   Jan   Nest-USA   ELEC10   10\n",
       "4   Feb   Nest-USA   ELEC20   20\n",
       "5   Mar   Nest-USA   ELEC30   30\n",
       "6   Jan     Office    OFF10   10\n",
       "7   Feb     Office    OFF20   20\n",
       "8   Mar     Office    OFF30   30\n",
       "9   Jan  Drinkware  EXTRA10   10\n",
       "10  Feb  Drinkware  EXTRA20   20\n",
       "11  Mar  Drinkware  EXTRA30   30"
      ]
     },
     "execution_count": 224,
     "metadata": {},
     "output_type": "execute_result"
    }
   ],
   "source": [
    "discount.head(12)"
   ]
  },
  {
   "cell_type": "code",
   "execution_count": 225,
   "metadata": {},
   "outputs": [
    {
     "data": {
      "text/html": [
       "<div>\n",
       "<style scoped>\n",
       "    .dataframe tbody tr th:only-of-type {\n",
       "        vertical-align: middle;\n",
       "    }\n",
       "\n",
       "    .dataframe tbody tr th {\n",
       "        vertical-align: top;\n",
       "    }\n",
       "\n",
       "    .dataframe thead th {\n",
       "        text-align: right;\n",
       "    }\n",
       "</style>\n",
       "<table border=\"1\" class=\"dataframe\">\n",
       "  <thead>\n",
       "    <tr style=\"text-align: right;\">\n",
       "      <th></th>\n",
       "      <th>할인율</th>\n",
       "    </tr>\n",
       "  </thead>\n",
       "  <tbody>\n",
       "    <tr>\n",
       "      <th>count</th>\n",
       "      <td>204.000000</td>\n",
       "    </tr>\n",
       "    <tr>\n",
       "      <th>mean</th>\n",
       "      <td>20.000000</td>\n",
       "    </tr>\n",
       "    <tr>\n",
       "      <th>std</th>\n",
       "      <td>8.185052</td>\n",
       "    </tr>\n",
       "    <tr>\n",
       "      <th>min</th>\n",
       "      <td>10.000000</td>\n",
       "    </tr>\n",
       "    <tr>\n",
       "      <th>25%</th>\n",
       "      <td>10.000000</td>\n",
       "    </tr>\n",
       "    <tr>\n",
       "      <th>50%</th>\n",
       "      <td>20.000000</td>\n",
       "    </tr>\n",
       "    <tr>\n",
       "      <th>75%</th>\n",
       "      <td>30.000000</td>\n",
       "    </tr>\n",
       "    <tr>\n",
       "      <th>max</th>\n",
       "      <td>30.000000</td>\n",
       "    </tr>\n",
       "  </tbody>\n",
       "</table>\n",
       "</div>"
      ],
      "text/plain": [
       "              할인율\n",
       "count  204.000000\n",
       "mean    20.000000\n",
       "std      8.185052\n",
       "min     10.000000\n",
       "25%     10.000000\n",
       "50%     20.000000\n",
       "75%     30.000000\n",
       "max     30.000000"
      ]
     },
     "execution_count": 225,
     "metadata": {},
     "output_type": "execute_result"
    }
   ],
   "source": [
    "discount.describe()"
   ]
  },
  {
   "cell_type": "code",
   "execution_count": 226,
   "metadata": {},
   "outputs": [
    {
     "name": "stdout",
     "output_type": "stream",
     "text": [
      "<class 'pandas.core.frame.DataFrame'>\n",
      "RangeIndex: 204 entries, 0 to 203\n",
      "Data columns (total 4 columns):\n",
      " #   Column  Non-Null Count  Dtype \n",
      "---  ------  --------------  ----- \n",
      " 0   월       204 non-null    object\n",
      " 1   제품카테고리  204 non-null    object\n",
      " 2   쿠폰코드    204 non-null    object\n",
      " 3   할인율     204 non-null    int64 \n",
      "dtypes: int64(1), object(3)\n",
      "memory usage: 6.5+ KB\n"
     ]
    }
   ],
   "source": [
    "discount.info()"
   ]
  },
  {
   "cell_type": "code",
   "execution_count": 227,
   "metadata": {},
   "outputs": [
    {
     "data": {
      "text/plain": [
       "월         0\n",
       "제품카테고리    0\n",
       "쿠폰코드      0\n",
       "할인율       0\n",
       "dtype: int64"
      ]
     },
     "execution_count": 227,
     "metadata": {},
     "output_type": "execute_result"
    }
   ],
   "source": [
    "len(discount) - discount.count()"
   ]
  },
  {
   "cell_type": "code",
   "execution_count": 228,
   "metadata": {},
   "outputs": [
    {
     "name": "stdout",
     "output_type": "stream",
     "text": [
      "204\n"
     ]
    },
    {
     "data": {
      "text/plain": [
       "월         0\n",
       "제품카테고리    0\n",
       "쿠폰코드      0\n",
       "할인율       0\n",
       "dtype: int64"
      ]
     },
     "execution_count": 228,
     "metadata": {},
     "output_type": "execute_result"
    }
   ],
   "source": [
    "#결측치\n",
    "print(len(discount))\n",
    "len(discount) - discount.count()"
   ]
  },
  {
   "cell_type": "code",
   "execution_count": 229,
   "metadata": {},
   "outputs": [
    {
     "data": {
      "text/plain": [
       "0      False\n",
       "1      False\n",
       "2      False\n",
       "3      False\n",
       "4      False\n",
       "       ...  \n",
       "199    False\n",
       "200    False\n",
       "201    False\n",
       "202    False\n",
       "203    False\n",
       "Length: 204, dtype: bool"
      ]
     },
     "execution_count": 229,
     "metadata": {},
     "output_type": "execute_result"
    }
   ],
   "source": [
    "#중복값\n",
    "discount.duplicated()"
   ]
  },
  {
   "cell_type": "code",
   "execution_count": 230,
   "metadata": {},
   "outputs": [
    {
     "data": {
      "text/html": [
       "<div>\n",
       "<style scoped>\n",
       "    .dataframe tbody tr th:only-of-type {\n",
       "        vertical-align: middle;\n",
       "    }\n",
       "\n",
       "    .dataframe tbody tr th {\n",
       "        vertical-align: top;\n",
       "    }\n",
       "\n",
       "    .dataframe thead th {\n",
       "        text-align: right;\n",
       "    }\n",
       "</style>\n",
       "<table border=\"1\" class=\"dataframe\">\n",
       "  <thead>\n",
       "    <tr style=\"text-align: right;\">\n",
       "      <th></th>\n",
       "      <th>날짜</th>\n",
       "      <th>오프라인비용</th>\n",
       "      <th>온라인비용</th>\n",
       "    </tr>\n",
       "  </thead>\n",
       "  <tbody>\n",
       "    <tr>\n",
       "      <th>0</th>\n",
       "      <td>2019-01-01</td>\n",
       "      <td>4500</td>\n",
       "      <td>2424.50</td>\n",
       "    </tr>\n",
       "    <tr>\n",
       "      <th>1</th>\n",
       "      <td>2019-01-02</td>\n",
       "      <td>4500</td>\n",
       "      <td>3480.36</td>\n",
       "    </tr>\n",
       "    <tr>\n",
       "      <th>2</th>\n",
       "      <td>2019-01-03</td>\n",
       "      <td>4500</td>\n",
       "      <td>1576.38</td>\n",
       "    </tr>\n",
       "    <tr>\n",
       "      <th>3</th>\n",
       "      <td>2019-01-04</td>\n",
       "      <td>4500</td>\n",
       "      <td>2928.55</td>\n",
       "    </tr>\n",
       "    <tr>\n",
       "      <th>4</th>\n",
       "      <td>2019-01-05</td>\n",
       "      <td>4500</td>\n",
       "      <td>4055.30</td>\n",
       "    </tr>\n",
       "  </tbody>\n",
       "</table>\n",
       "</div>"
      ],
      "text/plain": [
       "           날짜  오프라인비용    온라인비용\n",
       "0  2019-01-01    4500  2424.50\n",
       "1  2019-01-02    4500  3480.36\n",
       "2  2019-01-03    4500  1576.38\n",
       "3  2019-01-04    4500  2928.55\n",
       "4  2019-01-05    4500  4055.30"
      ]
     },
     "execution_count": 230,
     "metadata": {},
     "output_type": "execute_result"
    }
   ],
   "source": [
    "marketing.head()"
   ]
  },
  {
   "cell_type": "code",
   "execution_count": 231,
   "metadata": {},
   "outputs": [
    {
     "data": {
      "text/html": [
       "<div>\n",
       "<style scoped>\n",
       "    .dataframe tbody tr th:only-of-type {\n",
       "        vertical-align: middle;\n",
       "    }\n",
       "\n",
       "    .dataframe tbody tr th {\n",
       "        vertical-align: top;\n",
       "    }\n",
       "\n",
       "    .dataframe thead th {\n",
       "        text-align: right;\n",
       "    }\n",
       "</style>\n",
       "<table border=\"1\" class=\"dataframe\">\n",
       "  <thead>\n",
       "    <tr style=\"text-align: right;\">\n",
       "      <th></th>\n",
       "      <th>오프라인비용</th>\n",
       "      <th>온라인비용</th>\n",
       "    </tr>\n",
       "  </thead>\n",
       "  <tbody>\n",
       "    <tr>\n",
       "      <th>count</th>\n",
       "      <td>365.000000</td>\n",
       "      <td>365.000000</td>\n",
       "    </tr>\n",
       "    <tr>\n",
       "      <th>mean</th>\n",
       "      <td>2843.561644</td>\n",
       "      <td>1905.880740</td>\n",
       "    </tr>\n",
       "    <tr>\n",
       "      <th>std</th>\n",
       "      <td>952.292448</td>\n",
       "      <td>808.856853</td>\n",
       "    </tr>\n",
       "    <tr>\n",
       "      <th>min</th>\n",
       "      <td>500.000000</td>\n",
       "      <td>320.250000</td>\n",
       "    </tr>\n",
       "    <tr>\n",
       "      <th>25%</th>\n",
       "      <td>2500.000000</td>\n",
       "      <td>1258.600000</td>\n",
       "    </tr>\n",
       "    <tr>\n",
       "      <th>50%</th>\n",
       "      <td>3000.000000</td>\n",
       "      <td>1881.940000</td>\n",
       "    </tr>\n",
       "    <tr>\n",
       "      <th>75%</th>\n",
       "      <td>3500.000000</td>\n",
       "      <td>2435.120000</td>\n",
       "    </tr>\n",
       "    <tr>\n",
       "      <th>max</th>\n",
       "      <td>5000.000000</td>\n",
       "      <td>4556.930000</td>\n",
       "    </tr>\n",
       "  </tbody>\n",
       "</table>\n",
       "</div>"
      ],
      "text/plain": [
       "            오프라인비용        온라인비용\n",
       "count   365.000000   365.000000\n",
       "mean   2843.561644  1905.880740\n",
       "std     952.292448   808.856853\n",
       "min     500.000000   320.250000\n",
       "25%    2500.000000  1258.600000\n",
       "50%    3000.000000  1881.940000\n",
       "75%    3500.000000  2435.120000\n",
       "max    5000.000000  4556.930000"
      ]
     },
     "execution_count": 231,
     "metadata": {},
     "output_type": "execute_result"
    }
   ],
   "source": [
    "marketing.describe()"
   ]
  },
  {
   "cell_type": "code",
   "execution_count": 232,
   "metadata": {},
   "outputs": [
    {
     "name": "stdout",
     "output_type": "stream",
     "text": [
      "<class 'pandas.core.frame.DataFrame'>\n",
      "RangeIndex: 365 entries, 0 to 364\n",
      "Data columns (total 3 columns):\n",
      " #   Column  Non-Null Count  Dtype  \n",
      "---  ------  --------------  -----  \n",
      " 0   날짜      365 non-null    object \n",
      " 1   오프라인비용  365 non-null    int64  \n",
      " 2   온라인비용   365 non-null    float64\n",
      "dtypes: float64(1), int64(1), object(1)\n",
      "memory usage: 8.7+ KB\n"
     ]
    }
   ],
   "source": [
    "marketing.info()"
   ]
  },
  {
   "cell_type": "code",
   "execution_count": 233,
   "metadata": {},
   "outputs": [
    {
     "name": "stdout",
     "output_type": "stream",
     "text": [
      "365\n"
     ]
    },
    {
     "data": {
      "text/plain": [
       "날짜        0\n",
       "오프라인비용    0\n",
       "온라인비용     0\n",
       "dtype: int64"
      ]
     },
     "execution_count": 233,
     "metadata": {},
     "output_type": "execute_result"
    }
   ],
   "source": [
    "#결측치\n",
    "print(len(marketing))\n",
    "len(marketing) - marketing.count()"
   ]
  },
  {
   "cell_type": "code",
   "execution_count": 234,
   "metadata": {},
   "outputs": [
    {
     "data": {
      "text/plain": [
       "0      False\n",
       "1      False\n",
       "2      False\n",
       "3      False\n",
       "4      False\n",
       "       ...  \n",
       "360    False\n",
       "361    False\n",
       "362    False\n",
       "363    False\n",
       "364    False\n",
       "Length: 365, dtype: bool"
      ]
     },
     "execution_count": 234,
     "metadata": {},
     "output_type": "execute_result"
    }
   ],
   "source": [
    "#중복값\n",
    "marketing.duplicated()"
   ]
  },
  {
   "cell_type": "code",
   "execution_count": 235,
   "metadata": {},
   "outputs": [
    {
     "data": {
      "text/html": [
       "<div>\n",
       "<style scoped>\n",
       "    .dataframe tbody tr th:only-of-type {\n",
       "        vertical-align: middle;\n",
       "    }\n",
       "\n",
       "    .dataframe tbody tr th {\n",
       "        vertical-align: top;\n",
       "    }\n",
       "\n",
       "    .dataframe thead th {\n",
       "        text-align: right;\n",
       "    }\n",
       "</style>\n",
       "<table border=\"1\" class=\"dataframe\">\n",
       "  <thead>\n",
       "    <tr style=\"text-align: right;\">\n",
       "      <th></th>\n",
       "      <th>고객ID</th>\n",
       "      <th>거래ID</th>\n",
       "      <th>거래날짜</th>\n",
       "      <th>제품ID</th>\n",
       "      <th>제품카테고리</th>\n",
       "      <th>수량</th>\n",
       "      <th>평균금액</th>\n",
       "      <th>배송료</th>\n",
       "      <th>쿠폰상태</th>\n",
       "    </tr>\n",
       "  </thead>\n",
       "  <tbody>\n",
       "    <tr>\n",
       "      <th>0</th>\n",
       "      <td>USER_1358</td>\n",
       "      <td>Transaction_0000</td>\n",
       "      <td>2019-01-01</td>\n",
       "      <td>Product_0981</td>\n",
       "      <td>Nest-USA</td>\n",
       "      <td>1</td>\n",
       "      <td>153.71</td>\n",
       "      <td>6.5</td>\n",
       "      <td>Used</td>\n",
       "    </tr>\n",
       "    <tr>\n",
       "      <th>1</th>\n",
       "      <td>USER_1358</td>\n",
       "      <td>Transaction_0001</td>\n",
       "      <td>2019-01-01</td>\n",
       "      <td>Product_0981</td>\n",
       "      <td>Nest-USA</td>\n",
       "      <td>1</td>\n",
       "      <td>153.71</td>\n",
       "      <td>6.5</td>\n",
       "      <td>Used</td>\n",
       "    </tr>\n",
       "    <tr>\n",
       "      <th>2</th>\n",
       "      <td>USER_1358</td>\n",
       "      <td>Transaction_0002</td>\n",
       "      <td>2019-01-01</td>\n",
       "      <td>Product_0904</td>\n",
       "      <td>Office</td>\n",
       "      <td>1</td>\n",
       "      <td>2.05</td>\n",
       "      <td>6.5</td>\n",
       "      <td>Used</td>\n",
       "    </tr>\n",
       "    <tr>\n",
       "      <th>3</th>\n",
       "      <td>USER_1358</td>\n",
       "      <td>Transaction_0003</td>\n",
       "      <td>2019-01-01</td>\n",
       "      <td>Product_0203</td>\n",
       "      <td>Apparel</td>\n",
       "      <td>5</td>\n",
       "      <td>17.53</td>\n",
       "      <td>6.5</td>\n",
       "      <td>Not Used</td>\n",
       "    </tr>\n",
       "    <tr>\n",
       "      <th>4</th>\n",
       "      <td>USER_1358</td>\n",
       "      <td>Transaction_0003</td>\n",
       "      <td>2019-01-01</td>\n",
       "      <td>Product_0848</td>\n",
       "      <td>Bags</td>\n",
       "      <td>1</td>\n",
       "      <td>16.50</td>\n",
       "      <td>6.5</td>\n",
       "      <td>Used</td>\n",
       "    </tr>\n",
       "  </tbody>\n",
       "</table>\n",
       "</div>"
      ],
      "text/plain": [
       "        고객ID              거래ID        거래날짜          제품ID    제품카테고리  수량  \\\n",
       "0  USER_1358  Transaction_0000  2019-01-01  Product_0981  Nest-USA   1   \n",
       "1  USER_1358  Transaction_0001  2019-01-01  Product_0981  Nest-USA   1   \n",
       "2  USER_1358  Transaction_0002  2019-01-01  Product_0904    Office   1   \n",
       "3  USER_1358  Transaction_0003  2019-01-01  Product_0203   Apparel   5   \n",
       "4  USER_1358  Transaction_0003  2019-01-01  Product_0848      Bags   1   \n",
       "\n",
       "     평균금액  배송료      쿠폰상태  \n",
       "0  153.71  6.5      Used  \n",
       "1  153.71  6.5      Used  \n",
       "2    2.05  6.5      Used  \n",
       "3   17.53  6.5  Not Used  \n",
       "4   16.50  6.5      Used  "
      ]
     },
     "execution_count": 235,
     "metadata": {},
     "output_type": "execute_result"
    }
   ],
   "source": [
    "onlinesales.head()"
   ]
  },
  {
   "cell_type": "markdown",
   "metadata": {},
   "source": []
  },
  {
   "cell_type": "code",
   "execution_count": 236,
   "metadata": {},
   "outputs": [
    {
     "data": {
      "text/html": [
       "<div>\n",
       "<style scoped>\n",
       "    .dataframe tbody tr th:only-of-type {\n",
       "        vertical-align: middle;\n",
       "    }\n",
       "\n",
       "    .dataframe tbody tr th {\n",
       "        vertical-align: top;\n",
       "    }\n",
       "\n",
       "    .dataframe thead th {\n",
       "        text-align: right;\n",
       "    }\n",
       "</style>\n",
       "<table border=\"1\" class=\"dataframe\">\n",
       "  <thead>\n",
       "    <tr style=\"text-align: right;\">\n",
       "      <th></th>\n",
       "      <th>수량</th>\n",
       "      <th>평균금액</th>\n",
       "      <th>배송료</th>\n",
       "    </tr>\n",
       "  </thead>\n",
       "  <tbody>\n",
       "    <tr>\n",
       "      <th>count</th>\n",
       "      <td>52924.000000</td>\n",
       "      <td>52924.000000</td>\n",
       "      <td>52924.000000</td>\n",
       "    </tr>\n",
       "    <tr>\n",
       "      <th>mean</th>\n",
       "      <td>4.497638</td>\n",
       "      <td>52.237646</td>\n",
       "      <td>10.517630</td>\n",
       "    </tr>\n",
       "    <tr>\n",
       "      <th>std</th>\n",
       "      <td>20.104711</td>\n",
       "      <td>64.006882</td>\n",
       "      <td>19.475613</td>\n",
       "    </tr>\n",
       "    <tr>\n",
       "      <th>min</th>\n",
       "      <td>1.000000</td>\n",
       "      <td>0.390000</td>\n",
       "      <td>0.000000</td>\n",
       "    </tr>\n",
       "    <tr>\n",
       "      <th>25%</th>\n",
       "      <td>1.000000</td>\n",
       "      <td>5.700000</td>\n",
       "      <td>6.000000</td>\n",
       "    </tr>\n",
       "    <tr>\n",
       "      <th>50%</th>\n",
       "      <td>1.000000</td>\n",
       "      <td>16.990000</td>\n",
       "      <td>6.000000</td>\n",
       "    </tr>\n",
       "    <tr>\n",
       "      <th>75%</th>\n",
       "      <td>2.000000</td>\n",
       "      <td>102.130000</td>\n",
       "      <td>6.500000</td>\n",
       "    </tr>\n",
       "    <tr>\n",
       "      <th>max</th>\n",
       "      <td>900.000000</td>\n",
       "      <td>355.740000</td>\n",
       "      <td>521.360000</td>\n",
       "    </tr>\n",
       "  </tbody>\n",
       "</table>\n",
       "</div>"
      ],
      "text/plain": [
       "                 수량          평균금액           배송료\n",
       "count  52924.000000  52924.000000  52924.000000\n",
       "mean       4.497638     52.237646     10.517630\n",
       "std       20.104711     64.006882     19.475613\n",
       "min        1.000000      0.390000      0.000000\n",
       "25%        1.000000      5.700000      6.000000\n",
       "50%        1.000000     16.990000      6.000000\n",
       "75%        2.000000    102.130000      6.500000\n",
       "max      900.000000    355.740000    521.360000"
      ]
     },
     "execution_count": 236,
     "metadata": {},
     "output_type": "execute_result"
    }
   ],
   "source": [
    "onlinesales.describe()"
   ]
  },
  {
   "cell_type": "code",
   "execution_count": 237,
   "metadata": {},
   "outputs": [
    {
     "name": "stdout",
     "output_type": "stream",
     "text": [
      "<class 'pandas.core.frame.DataFrame'>\n",
      "RangeIndex: 52924 entries, 0 to 52923\n",
      "Data columns (total 9 columns):\n",
      " #   Column  Non-Null Count  Dtype  \n",
      "---  ------  --------------  -----  \n",
      " 0   고객ID    52924 non-null  object \n",
      " 1   거래ID    52924 non-null  object \n",
      " 2   거래날짜    52924 non-null  object \n",
      " 3   제품ID    52924 non-null  object \n",
      " 4   제품카테고리  52924 non-null  object \n",
      " 5   수량      52924 non-null  int64  \n",
      " 6   평균금액    52924 non-null  float64\n",
      " 7   배송료     52924 non-null  float64\n",
      " 8   쿠폰상태    52924 non-null  object \n",
      "dtypes: float64(2), int64(1), object(6)\n",
      "memory usage: 3.6+ MB\n"
     ]
    }
   ],
   "source": [
    "onlinesales.info()"
   ]
  },
  {
   "cell_type": "code",
   "execution_count": 238,
   "metadata": {},
   "outputs": [
    {
     "name": "stdout",
     "output_type": "stream",
     "text": [
      "52924\n"
     ]
    },
    {
     "data": {
      "text/plain": [
       "고객ID      0\n",
       "거래ID      0\n",
       "거래날짜      0\n",
       "제품ID      0\n",
       "제품카테고리    0\n",
       "수량        0\n",
       "평균금액      0\n",
       "배송료       0\n",
       "쿠폰상태      0\n",
       "dtype: int64"
      ]
     },
     "execution_count": 238,
     "metadata": {},
     "output_type": "execute_result"
    }
   ],
   "source": [
    "#결측치\n",
    "print(len(onlinesales))\n",
    "len(onlinesales) - onlinesales.count()"
   ]
  },
  {
   "cell_type": "code",
   "execution_count": 239,
   "metadata": {},
   "outputs": [
    {
     "data": {
      "text/plain": [
       "0        False\n",
       "1        False\n",
       "2        False\n",
       "3        False\n",
       "4        False\n",
       "         ...  \n",
       "52919    False\n",
       "52920    False\n",
       "52921    False\n",
       "52922    False\n",
       "52923    False\n",
       "Length: 52924, dtype: bool"
      ]
     },
     "execution_count": 239,
     "metadata": {},
     "output_type": "execute_result"
    }
   ],
   "source": [
    "#중복값\n",
    "onlinesales.duplicated()"
   ]
  },
  {
   "cell_type": "code",
   "execution_count": 240,
   "metadata": {},
   "outputs": [
    {
     "name": "stdout",
     "output_type": "stream",
     "text": [
      "2019년 1월\n",
      "2019년 2월\n",
      "2019년 3월\n",
      "2019년 4월\n",
      "2019년 5월\n",
      "2019년 6월\n",
      "2019년 7월\n",
      "2019년 8월\n",
      "2019년 9월\n",
      "2019년 10월\n",
      "2019년 11월\n",
      "2019년 12월\n"
     ]
    }
   ],
   "source": [
    "#문자열로 된 날짜를 TIMESTAMP형식으로 변환\n",
    "onlinesales['거래날짜'] = pd.to_datetime(onlinesales['거래날짜'])\n",
    "\n",
    "#거래날짜에서 연도와 월정보 가져오기\n",
    "set_of_year_month = list(set([(x.year, x.month) for x in onlinesales['거래날짜']]))\n",
    "#연도와 월정보를 연도, 월 순으로 출력\n",
    "for ym in sorted(set_of_year_month, key=lambda x: (x[0], x[1])):\n",
    "    print(f'{ym[0]}년 {ym[1]}월')"
   ]
  },
  {
   "cell_type": "markdown",
   "metadata": {},
   "source": [
    "R = onlinesales[['고객ID', '거래날짜']].drop_duplicates()\n",
    "recency = recency.rename(columns={'거래날짜':'최근구매'})"
   ]
  },
  {
   "cell_type": "code",
   "execution_count": 241,
   "metadata": {},
   "outputs": [
    {
     "name": "stdout",
     "output_type": "stream",
     "text": [
      "           고객ID       거래날짜\n",
      "0     USER_0000 2019-09-15\n",
      "1     USER_0001 2019-11-02\n",
      "2     USER_0002 2019-10-19\n",
      "3     USER_0003 2019-12-14\n",
      "4     USER_0004 2019-09-15\n",
      "...         ...        ...\n",
      "1463  USER_1463 2019-04-05\n",
      "1464  USER_1464 2019-10-05\n",
      "1465  USER_1465 2019-06-20\n",
      "1466  USER_1466 2019-10-23\n",
      "1467  USER_1467 2019-10-10\n",
      "\n",
      "[1468 rows x 2 columns]\n"
     ]
    }
   ],
   "source": [
    "#고객별로 가장 최근에 구매한 날짜가 언제인지\n",
    "recency = onlinesales.groupby('고객ID')['거래날짜'].max().reset_index()\n",
    "onlinesales.rename(columns={'거래날짜' : '최근구매'},inplace = True)\n",
    "print(recency)"
   ]
  },
  {
   "cell_type": "markdown",
   "metadata": {},
   "source": [
    "RFM = onlinesales[['고객ID', '거래날짜','평균금액','수량']].drop_duplicates()\n",
    "recency = RFM.groupby('고객ID')['거래날짜'].max().reset_index()\n",
    "recency = recency.rename(columns={'거래날짜':'최근구매'})\n",
    "frequency = RFM.groupby('고객ID')['거래날짜'].count().reset_index()\n",
    "onlinesales['빈도수'] = frequency\n",
    "onlinesales['총구매액'] = onlinesales['평균금액'] * onlinesales['수량']\n",
    "monetary = onlinesales.groupby('고객ID')['총구매액'].sum().reset_index()\n",
    "print()"
   ]
  },
  {
   "cell_type": "code",
   "execution_count": 244,
   "metadata": {},
   "outputs": [
    {
     "name": "stdout",
     "output_type": "stream",
     "text": [
      "            고객ID               거래ID       최근구매          제품ID    제품카테고리  수량  \\\n",
      "0      USER_1358   Transaction_0000 2019-01-01  Product_0981  Nest-USA   1   \n",
      "1      USER_1358   Transaction_0001 2019-01-01  Product_0981  Nest-USA   1   \n",
      "2      USER_1358   Transaction_0002 2019-01-01  Product_0904    Office   1   \n",
      "3      USER_1358   Transaction_0003 2019-01-01  Product_0203   Apparel   5   \n",
      "4      USER_1358   Transaction_0003 2019-01-01  Product_0848      Bags   1   \n",
      "...          ...                ...        ...           ...       ...  ..   \n",
      "52919  USER_0504  Transaction_25056 2019-12-31  Product_0976  Nest-USA   1   \n",
      "52920  USER_0504  Transaction_25057 2019-12-31  Product_0413   Apparel   1   \n",
      "52921  USER_0504  Transaction_25058 2019-12-31  Product_0989  Nest-USA   1   \n",
      "52922  USER_0562  Transaction_25059 2019-12-31  Product_0985  Nest-USA   5   \n",
      "52923  USER_0562  Transaction_25060 2019-12-31  Product_0984  Nest-USA   4   \n",
      "\n",
      "         평균금액    배송료      쿠폰상태  diff_date  \n",
      "0      153.71   6.50      Used        364  \n",
      "1      153.71   6.50      Used        364  \n",
      "2        2.05   6.50      Used        364  \n",
      "3       17.53   6.50  Not Used        364  \n",
      "4       16.50   6.50      Used        364  \n",
      "...       ...    ...       ...        ...  \n",
      "52919  121.30   6.50   Clicked          0  \n",
      "52920   48.92   6.50      Used          0  \n",
      "52921  151.88   6.50      Used          0  \n",
      "52922   80.52   6.50   Clicked          0  \n",
      "52923   80.52  19.99   Clicked          0  \n",
      "\n",
      "[52924 rows x 10 columns]\n"
     ]
    }
   ],
   "source": [
    "max_date = onlinesales['최근구매'].max()\n",
    "onlinesales['diff_date'] = (max_date - onlinesales['최근구매']).dt.days\n",
    "print(onlinesales)"
   ]
  },
  {
   "cell_type": "code",
   "execution_count": null,
   "metadata": {},
   "outputs": [
    {
     "name": "stdout",
     "output_type": "stream",
     "text": [
      "           고객ID  거래날짜\n",
      "0     USER_0000     1\n",
      "1     USER_0001     3\n",
      "2     USER_0002     2\n",
      "3     USER_0003     1\n",
      "4     USER_0004     1\n",
      "...         ...   ...\n",
      "1463  USER_1463     1\n",
      "1464  USER_1464     3\n",
      "1465  USER_1465     2\n",
      "1466  USER_1466     1\n",
      "1467  USER_1467     2\n",
      "\n",
      "[1468 rows x 2 columns]\n"
     ]
    }
   ],
   "source": [
    "#고객별로 방문횟수\n",
    "F = onlinesales[['고객ID', '거래날짜']].drop_duplicates()\n",
    "onlinesales = F.groupby('고객ID')['거래날짜'].count().reset_index()\n",
    "\n",
    "print(onlinesales)"
   ]
  },
  {
   "cell_type": "code",
   "execution_count": null,
   "metadata": {},
   "outputs": [
    {
     "ename": "KeyError",
     "evalue": "'평균금액'",
     "output_type": "error",
     "traceback": [
      "\u001b[1;31m---------------------------------------------------------------------------\u001b[0m",
      "\u001b[1;31mKeyError\u001b[0m                                  Traceback (most recent call last)",
      "File \u001b[1;32mc:\\Users\\user\\AppData\\Local\\Programs\\Python\\Python39\\lib\\site-packages\\pandas\\core\\indexes\\base.py:3802\u001b[0m, in \u001b[0;36mIndex.get_loc\u001b[1;34m(self, key)\u001b[0m\n\u001b[0;32m   3801\u001b[0m \u001b[38;5;28;01mtry\u001b[39;00m:\n\u001b[1;32m-> 3802\u001b[0m     \u001b[38;5;28;01mreturn\u001b[39;00m \u001b[38;5;28;43mself\u001b[39;49m\u001b[38;5;241;43m.\u001b[39;49m\u001b[43m_engine\u001b[49m\u001b[38;5;241;43m.\u001b[39;49m\u001b[43mget_loc\u001b[49m\u001b[43m(\u001b[49m\u001b[43mcasted_key\u001b[49m\u001b[43m)\u001b[49m\n\u001b[0;32m   3803\u001b[0m \u001b[38;5;28;01mexcept\u001b[39;00m \u001b[38;5;167;01mKeyError\u001b[39;00m \u001b[38;5;28;01mas\u001b[39;00m err:\n",
      "File \u001b[1;32mindex.pyx:153\u001b[0m, in \u001b[0;36mpandas._libs.index.IndexEngine.get_loc\u001b[1;34m()\u001b[0m\n",
      "File \u001b[1;32mindex.pyx:182\u001b[0m, in \u001b[0;36mpandas._libs.index.IndexEngine.get_loc\u001b[1;34m()\u001b[0m\n",
      "File \u001b[1;32mpandas\\\\_libs\\\\hashtable_class_helper.pxi:7081\u001b[0m, in \u001b[0;36mpandas._libs.hashtable.PyObjectHashTable.get_item\u001b[1;34m()\u001b[0m\n",
      "File \u001b[1;32mpandas\\\\_libs\\\\hashtable_class_helper.pxi:7089\u001b[0m, in \u001b[0;36mpandas._libs.hashtable.PyObjectHashTable.get_item\u001b[1;34m()\u001b[0m\n",
      "\u001b[1;31mKeyError\u001b[0m: '평균금액'",
      "\nThe above exception was the direct cause of the following exception:\n",
      "\u001b[1;31mKeyError\u001b[0m                                  Traceback (most recent call last)",
      "Cell \u001b[1;32mIn[211], line 1\u001b[0m\n\u001b[1;32m----> 1\u001b[0m \u001b[43monlinesales\u001b[49m\u001b[43m[\u001b[49m\u001b[38;5;124;43m'\u001b[39;49m\u001b[38;5;124;43m평균금액\u001b[39;49m\u001b[38;5;124;43m'\u001b[39;49m\u001b[43m]\u001b[49m\u001b[38;5;241m.\u001b[39mdtype\n\u001b[0;32m      2\u001b[0m onlinesales[\u001b[38;5;124m'\u001b[39m\u001b[38;5;124m수량\u001b[39m\u001b[38;5;124m'\u001b[39m]\u001b[38;5;241m.\u001b[39mdtype\n",
      "File \u001b[1;32mc:\\Users\\user\\AppData\\Local\\Programs\\Python\\Python39\\lib\\site-packages\\pandas\\core\\frame.py:4090\u001b[0m, in \u001b[0;36mDataFrame.__getitem__\u001b[1;34m(self, key)\u001b[0m\n\u001b[0;32m   4088\u001b[0m \u001b[38;5;28;01mif\u001b[39;00m \u001b[38;5;28mself\u001b[39m\u001b[38;5;241m.\u001b[39mcolumns\u001b[38;5;241m.\u001b[39mnlevels \u001b[38;5;241m>\u001b[39m \u001b[38;5;241m1\u001b[39m:\n\u001b[0;32m   4089\u001b[0m     \u001b[38;5;28;01mreturn\u001b[39;00m \u001b[38;5;28mself\u001b[39m\u001b[38;5;241m.\u001b[39m_getitem_multilevel(key)\n\u001b[1;32m-> 4090\u001b[0m indexer \u001b[38;5;241m=\u001b[39m \u001b[38;5;28;43mself\u001b[39;49m\u001b[38;5;241;43m.\u001b[39;49m\u001b[43mcolumns\u001b[49m\u001b[38;5;241;43m.\u001b[39;49m\u001b[43mget_loc\u001b[49m\u001b[43m(\u001b[49m\u001b[43mkey\u001b[49m\u001b[43m)\u001b[49m\n\u001b[0;32m   4091\u001b[0m \u001b[38;5;28;01mif\u001b[39;00m is_integer(indexer):\n\u001b[0;32m   4092\u001b[0m     indexer \u001b[38;5;241m=\u001b[39m [indexer]\n",
      "File \u001b[1;32mc:\\Users\\user\\AppData\\Local\\Programs\\Python\\Python39\\lib\\site-packages\\pandas\\core\\indexes\\base.py:3809\u001b[0m, in \u001b[0;36mIndex.get_loc\u001b[1;34m(self, key)\u001b[0m\n\u001b[0;32m   3804\u001b[0m     \u001b[38;5;28;01mif\u001b[39;00m \u001b[38;5;28misinstance\u001b[39m(casted_key, \u001b[38;5;28mslice\u001b[39m) \u001b[38;5;129;01mor\u001b[39;00m (\n\u001b[0;32m   3805\u001b[0m         \u001b[38;5;28misinstance\u001b[39m(casted_key, abc\u001b[38;5;241m.\u001b[39mIterable)\n\u001b[0;32m   3806\u001b[0m         \u001b[38;5;129;01mand\u001b[39;00m \u001b[38;5;28many\u001b[39m(\u001b[38;5;28misinstance\u001b[39m(x, \u001b[38;5;28mslice\u001b[39m) \u001b[38;5;28;01mfor\u001b[39;00m x \u001b[38;5;129;01min\u001b[39;00m casted_key)\n\u001b[0;32m   3807\u001b[0m     ):\n\u001b[0;32m   3808\u001b[0m         \u001b[38;5;28;01mraise\u001b[39;00m InvalidIndexError(key)\n\u001b[1;32m-> 3809\u001b[0m     \u001b[38;5;28;01mraise\u001b[39;00m \u001b[38;5;167;01mKeyError\u001b[39;00m(key) \u001b[38;5;28;01mfrom\u001b[39;00m \u001b[38;5;21;01merr\u001b[39;00m\n\u001b[0;32m   3810\u001b[0m \u001b[38;5;28;01mexcept\u001b[39;00m \u001b[38;5;167;01mTypeError\u001b[39;00m:\n\u001b[0;32m   3811\u001b[0m     \u001b[38;5;66;03m# If we have a listlike key, _check_indexing_error will raise\u001b[39;00m\n\u001b[0;32m   3812\u001b[0m     \u001b[38;5;66;03m#  InvalidIndexError. Otherwise we fall through and re-raise\u001b[39;00m\n\u001b[0;32m   3813\u001b[0m     \u001b[38;5;66;03m#  the TypeError.\u001b[39;00m\n\u001b[0;32m   3814\u001b[0m     \u001b[38;5;28mself\u001b[39m\u001b[38;5;241m.\u001b[39m_check_indexing_error(key)\n",
      "\u001b[1;31mKeyError\u001b[0m: '평균금액'"
     ]
    }
   ],
   "source": [
    "onlinesales['평균금액'].dtype\n",
    "onlinesales['수량'].dtype"
   ]
  },
  {
   "cell_type": "code",
   "execution_count": null,
   "metadata": {},
   "outputs": [
    {
     "name": "stdout",
     "output_type": "stream",
     "text": [
      "           고객ID      총구매액\n",
      "0     USER_0000     30.99\n",
      "1     USER_0001  13834.90\n",
      "2     USER_0002   1442.12\n",
      "3     USER_0003   1360.07\n",
      "4     USER_0004   1442.47\n",
      "...         ...       ...\n",
      "1463  USER_1463    544.34\n",
      "1464  USER_1464   2363.05\n",
      "1465  USER_1465    101.56\n",
      "1466  USER_1466    298.00\n",
      "1467  USER_1467   6362.77\n",
      "\n",
      "[1468 rows x 2 columns]\n"
     ]
    }
   ],
   "source": [
    "#고객별 구매금액\n",
    "M = onlinesales[['고객ID', '평균금액', '수량']].drop_duplicates()\n",
    "onlinesales['총구매액'] = onlinesales['평균금액'] * onlinesales['수량']\n",
    "monetary = onlinesales.groupby('고객ID')['총구매액'].sum().reset_index()\n",
    "print(monetary)"
   ]
  },
  {
   "cell_type": "code",
   "execution_count": null,
   "metadata": {},
   "outputs": [],
   "source": [
    "#onlinesales['총구매액'].dtype"
   ]
  },
  {
   "cell_type": "code",
   "execution_count": null,
   "metadata": {},
   "outputs": [],
   "source": [
    "#onlinesales['총구매액'] = onlinesales['총구매액'].astype(float)"
   ]
  },
  {
   "cell_type": "code",
   "execution_count": null,
   "metadata": {},
   "outputs": [
    {
     "data": {
      "text/plain": [
       "0        (283.0, 364.0]\n",
       "1        (283.0, 364.0]\n",
       "2        (283.0, 364.0]\n",
       "3        (283.0, 364.0]\n",
       "4        (283.0, 364.0]\n",
       "              ...      \n",
       "52919    (-0.001, 77.0]\n",
       "52920    (-0.001, 77.0]\n",
       "52921    (-0.001, 77.0]\n",
       "52922    (-0.001, 77.0]\n",
       "52923    (-0.001, 77.0]\n",
       "Name: diff_date, Length: 52924, dtype: category\n",
       "Categories (5, interval[float64, right]): [(-0.001, 77.0] < (77.0, 144.0] < (144.0, 207.0] < (207.0, 283.0] < (283.0, 364.0]]"
      ]
     },
     "execution_count": 41,
     "metadata": {},
     "output_type": "execute_result"
    }
   ],
   "source": [
    "#R_최근구매 일수로 점수 할당하기_qcut_상대성\n",
    "pd.qcut(onlinesales['diff_date'], q=5)"
   ]
  },
  {
   "cell_type": "code",
   "execution_count": null,
   "metadata": {},
   "outputs": [
    {
     "data": {
      "text/plain": [
       "<bound method IndexOpsMixin.value_counts of 0        (283.0, 364.0]\n",
       "1        (283.0, 364.0]\n",
       "2        (283.0, 364.0]\n",
       "3        (283.0, 364.0]\n",
       "4        (283.0, 364.0]\n",
       "              ...      \n",
       "52919    (-0.001, 77.0]\n",
       "52920    (-0.001, 77.0]\n",
       "52921    (-0.001, 77.0]\n",
       "52922    (-0.001, 77.0]\n",
       "52923    (-0.001, 77.0]\n",
       "Name: diff_date, Length: 52924, dtype: category\n",
       "Categories (5, interval[float64, right]): [(-0.001, 77.0] < (77.0, 144.0] < (144.0, 207.0] < (207.0, 283.0] < (283.0, 364.0]]>"
      ]
     },
     "execution_count": 42,
     "metadata": {},
     "output_type": "execute_result"
    }
   ],
   "source": [
    "pd.qcut(onlinesales['diff_date'], q=5).value_counts"
   ]
  },
  {
   "cell_type": "code",
   "execution_count": null,
   "metadata": {},
   "outputs": [
    {
     "data": {
      "text/plain": [
       "count    52924.000000\n",
       "mean       178.197113\n",
       "std        101.728360\n",
       "min          0.000000\n",
       "25%         95.000000\n",
       "50%        171.000000\n",
       "75%        263.000000\n",
       "max        364.000000\n",
       "Name: diff_date, dtype: float64"
      ]
     },
     "execution_count": 43,
     "metadata": {},
     "output_type": "execute_result"
    }
   ],
   "source": [
    "onlinesales['diff_date'].describe()"
   ]
  },
  {
   "cell_type": "code",
   "execution_count": null,
   "metadata": {},
   "outputs": [],
   "source": []
  }
 ],
 "metadata": {
  "kernelspec": {
   "display_name": "Python 3",
   "language": "python",
   "name": "python3"
  },
  "language_info": {
   "codemirror_mode": {
    "name": "ipython",
    "version": 3
   },
   "file_extension": ".py",
   "mimetype": "text/x-python",
   "name": "python",
   "nbconvert_exporter": "python",
   "pygments_lexer": "ipython3",
   "version": "3.9.10"
  }
 },
 "nbformat": 4,
 "nbformat_minor": 2
}
